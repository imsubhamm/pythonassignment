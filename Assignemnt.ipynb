{
 "cells": [
  {
   "cell_type": "code",
   "execution_count": 1,
   "id": "2979e8ed",
   "metadata": {},
   "outputs": [],
   "source": [
    "input_list=['SAS', 'R', 'PYTHON', 'SPSS']"
   ]
  },
  {
   "cell_type": "code",
   "execution_count": 2,
   "id": "355a24d8",
   "metadata": {},
   "outputs": [
    {
     "data": {
      "text/plain": [
       "'SPSS'"
      ]
     },
     "execution_count": 2,
     "metadata": {},
     "output_type": "execute_result"
    }
   ],
   "source": [
    "input_list.pop()"
   ]
  },
  {
   "cell_type": "code",
   "execution_count": 3,
   "id": "98727ada",
   "metadata": {},
   "outputs": [],
   "source": [
    "input_list.append('SPARK')"
   ]
  },
  {
   "cell_type": "code",
   "execution_count": 4,
   "id": "877265af",
   "metadata": {},
   "outputs": [],
   "source": [
    "input_str = 'I love Data Science & Python'"
   ]
  },
  {
   "cell_type": "code",
   "execution_count": 5,
   "id": "26482f16",
   "metadata": {},
   "outputs": [
    {
     "data": {
      "text/plain": [
       "'I love Data Science & Python'"
      ]
     },
     "execution_count": 5,
     "metadata": {},
     "output_type": "execute_result"
    }
   ],
   "source": [
    "input_str.strip()"
   ]
  },
  {
   "cell_type": "code",
   "execution_count": 6,
   "id": "c4e09a56",
   "metadata": {},
   "outputs": [],
   "source": [
    "l=input_str.split('&')"
   ]
  },
  {
   "cell_type": "code",
   "execution_count": 7,
   "id": "7e8546a7",
   "metadata": {},
   "outputs": [
    {
     "data": {
      "text/plain": [
       "['I love Data Science ', ' Python']"
      ]
     },
     "execution_count": 7,
     "metadata": {},
     "output_type": "execute_result"
    }
   ],
   "source": [
    "l"
   ]
  },
  {
   "cell_type": "code",
   "execution_count": 8,
   "id": "ca23803e",
   "metadata": {},
   "outputs": [
    {
     "ename": "SyntaxError",
     "evalue": "unmatched ']' (2294737215.py, line 1)",
     "output_type": "error",
     "traceback": [
      "\u001b[0;36m  File \u001b[0;32m\"/tmp/ipykernel_64600/2294737215.py\"\u001b[0;36m, line \u001b[0;32m1\u001b[0m\n\u001b[0;31m    l='Pythons syntax is easy to learn', 'Pythons syntax is very clear']\u001b[0m\n\u001b[0m                                                                       ^\u001b[0m\n\u001b[0;31mSyntaxError\u001b[0m\u001b[0;31m:\u001b[0m unmatched ']'\n"
     ]
    }
   ],
   "source": [
    "l='Pythons syntax is easy to learn', 'Pythons syntax is very clear']"
   ]
  },
  {
   "cell_type": "code",
   "execution_count": 9,
   "id": "1d87cd3c",
   "metadata": {},
   "outputs": [],
   "source": [
    "l=['Pythons syntax is easy to learn', 'Pythons syntax is very clear']"
   ]
  },
  {
   "cell_type": "code",
   "execution_count": 10,
   "id": "9620b410",
   "metadata": {},
   "outputs": [
    {
     "ename": "TypeError",
     "evalue": "can only concatenate str (not \"list\") to str",
     "output_type": "error",
     "traceback": [
      "\u001b[0;31m---------------------------------------------------------------------------\u001b[0m",
      "\u001b[0;31mTypeError\u001b[0m                                 Traceback (most recent call last)",
      "\u001b[0;32m/tmp/ipykernel_64600/4101492020.py\u001b[0m in \u001b[0;36m<module>\u001b[0;34m\u001b[0m\n\u001b[1;32m      2\u001b[0m \u001b[0;32mfor\u001b[0m \u001b[0mi\u001b[0m \u001b[0;32min\u001b[0m \u001b[0ml\u001b[0m\u001b[0;34m:\u001b[0m\u001b[0;34m\u001b[0m\u001b[0;34m\u001b[0m\u001b[0m\n\u001b[1;32m      3\u001b[0m     \u001b[0ms\u001b[0m\u001b[0;34m+=\u001b[0m\u001b[0;34m\" & \"\u001b[0m\u001b[0;34m\u001b[0m\u001b[0;34m\u001b[0m\u001b[0m\n\u001b[0;32m----> 4\u001b[0;31m     \u001b[0ms\u001b[0m\u001b[0;34m+=\u001b[0m\u001b[0ml\u001b[0m\u001b[0;34m\u001b[0m\u001b[0;34m\u001b[0m\u001b[0m\n\u001b[0m",
      "\u001b[0;31mTypeError\u001b[0m: can only concatenate str (not \"list\") to str"
     ]
    }
   ],
   "source": [
    "s=\"\"\n",
    "for i in l:\n",
    "    s+=\" & \"\n",
    "    s+=l"
   ]
  },
  {
   "cell_type": "code",
   "execution_count": 11,
   "id": "637db205",
   "metadata": {},
   "outputs": [],
   "source": [
    "s=\"\"\n",
    "for i in l:\n",
    "    s+=\" & \"\n",
    "    s+=i"
   ]
  },
  {
   "cell_type": "code",
   "execution_count": 15,
   "id": "f54cf21a",
   "metadata": {},
   "outputs": [],
   "source": [
    "s=s[3:]"
   ]
  },
  {
   "cell_type": "code",
   "execution_count": 16,
   "id": "a5171358",
   "metadata": {},
   "outputs": [
    {
     "data": {
      "text/plain": [
       "'Pythons syntax is easy to learn & Pythons syntax is very clear'"
      ]
     },
     "execution_count": 16,
     "metadata": {},
     "output_type": "execute_result"
    }
   ],
   "source": [
    "s"
   ]
  },
  {
   "cell_type": "code",
   "execution_count": 17,
   "id": "f423c154",
   "metadata": {},
   "outputs": [],
   "source": [
    "input_list = [['SAS','R'],['Tableau','SQL'],['Python','Java']]"
   ]
  },
  {
   "cell_type": "code",
   "execution_count": 18,
   "id": "979483b7",
   "metadata": {},
   "outputs": [
    {
     "data": {
      "text/plain": [
       "'Python'"
      ]
     },
     "execution_count": 18,
     "metadata": {},
     "output_type": "execute_result"
    }
   ],
   "source": [
    "input_list[2][0]"
   ]
  },
  {
   "cell_type": "code",
   "execution_count": 19,
   "id": "a4808a15",
   "metadata": {},
   "outputs": [],
   "source": [
    "t = (\"disco\", 12, 4.5)"
   ]
  },
  {
   "cell_type": "code",
   "execution_count": 20,
   "id": "ac72667c",
   "metadata": {},
   "outputs": [
    {
     "data": {
      "text/plain": [
       "'s'"
      ]
     },
     "execution_count": 20,
     "metadata": {},
     "output_type": "execute_result"
    }
   ],
   "source": [
    "t[0][2]"
   ]
  },
  {
   "cell_type": "code",
   "execution_count": 21,
   "id": "9d24b8db",
   "metadata": {},
   "outputs": [
    {
     "name": "stdout",
     "output_type": "stream",
     "text": [
      "Palindrome\n"
     ]
    }
   ],
   "source": [
    "m='MADAM'\n",
    "if m==m[::-1]:\n",
    "    print(\"Palindrome\")\n",
    "else:\n",
    "    print(\"Not Bro\")"
   ]
  },
  {
   "cell_type": "code",
   "execution_count": 24,
   "id": "ebd46f4a",
   "metadata": {},
   "outputs": [
    {
     "name": "stdout",
     "output_type": "stream",
     "text": [
      "s_A\n",
      "sa\n"
     ]
    }
   ],
   "source": [
    "s=str(input())\n",
    "s2=s.replace('_','')\n",
    "s2=s2.lower()\n",
    "print(s2)\n",
    "      "
   ]
  },
  {
   "cell_type": "code",
   "execution_count": 27,
   "id": "4795ee1e",
   "metadata": {},
   "outputs": [
    {
     "data": {
      "text/plain": [
       "'love'"
      ]
     },
     "execution_count": 27,
     "metadata": {},
     "output_type": "execute_result"
    }
   ],
   "source": [
    "S = \"I love Python\"\n",
    "S[2:6]"
   ]
  },
  {
   "cell_type": "code",
   "execution_count": 28,
   "id": "96d9f361",
   "metadata": {},
   "outputs": [
    {
     "data": {
      "text/plain": [
       "81"
      ]
     },
     "execution_count": 28,
     "metadata": {},
     "output_type": "execute_result"
    }
   ],
   "source": [
    "3*3 ** 3"
   ]
  },
  {
   "cell_type": "code",
   "execution_count": 29,
   "id": "37429e68",
   "metadata": {},
   "outputs": [
    {
     "data": {
      "text/plain": [
       "1"
      ]
     },
     "execution_count": 29,
     "metadata": {},
     "output_type": "execute_result"
    }
   ],
   "source": [
    "((500//7) % 5) ** 3"
   ]
  },
  {
   "cell_type": "code",
   "execution_count": 30,
   "id": "f5541276",
   "metadata": {},
   "outputs": [
    {
     "ename": "AttributeError",
     "evalue": "'tuple' object has no attribute 'append'",
     "output_type": "error",
     "traceback": [
      "\u001b[0;31m---------------------------------------------------------------------------\u001b[0m",
      "\u001b[0;31mAttributeError\u001b[0m                            Traceback (most recent call last)",
      "\u001b[0;32m/tmp/ipykernel_64600/1124551472.py\u001b[0m in \u001b[0;36m<module>\u001b[0;34m\u001b[0m\n\u001b[1;32m      1\u001b[0m \u001b[0mT\u001b[0m \u001b[0;34m=\u001b[0m \u001b[0;34m(\u001b[0m\u001b[0;36m3\u001b[0m\u001b[0;34m,\u001b[0m \u001b[0;36m5\u001b[0m\u001b[0;34m,\u001b[0m \u001b[0;36m7\u001b[0m\u001b[0;34m,\u001b[0m \u001b[0;36m11\u001b[0m\u001b[0;34m)\u001b[0m\u001b[0;34m\u001b[0m\u001b[0;34m\u001b[0m\u001b[0m\n\u001b[0;32m----> 2\u001b[0;31m \u001b[0mT\u001b[0m\u001b[0;34m.\u001b[0m\u001b[0mappend\u001b[0m\u001b[0;34m(\u001b[0m\u001b[0;36m9\u001b[0m\u001b[0;34m)\u001b[0m\u001b[0;34m\u001b[0m\u001b[0;34m\u001b[0m\u001b[0m\n\u001b[0m",
      "\u001b[0;31mAttributeError\u001b[0m: 'tuple' object has no attribute 'append'"
     ]
    }
   ],
   "source": [
    "T = (3, 5, 7, 11)\n",
    "T.append(9)"
   ]
  },
  {
   "cell_type": "code",
   "execution_count": 34,
   "id": "63cca2b7",
   "metadata": {},
   "outputs": [
    {
     "data": {
      "text/plain": [
       "6"
      ]
     },
     "execution_count": 34,
     "metadata": {},
     "output_type": "execute_result"
    }
   ],
   "source": [
    "l = [32,34, 12, 27, 33]\n",
    "l.append((14, 19))\n",
    "len(l)"
   ]
  },
  {
   "cell_type": "code",
   "execution_count": 35,
   "id": "a9962ea2",
   "metadata": {},
   "outputs": [],
   "source": [
    "set={2,2,2}"
   ]
  },
  {
   "cell_type": "code",
   "execution_count": 36,
   "id": "b836a700",
   "metadata": {},
   "outputs": [
    {
     "data": {
      "text/plain": [
       "{2}"
      ]
     },
     "execution_count": 36,
     "metadata": {},
     "output_type": "execute_result"
    }
   ],
   "source": [
    "set"
   ]
  },
  {
   "cell_type": "code",
   "execution_count": 37,
   "id": "6b044b0c",
   "metadata": {},
   "outputs": [
    {
     "name": "stdout",
     "output_type": "stream",
     "text": [
      "7)ALl of the above\n"
     ]
    }
   ],
   "source": [
    "print (\"7)ALl of the above\")"
   ]
  },
  {
   "cell_type": "code",
   "execution_count": 38,
   "id": "50ef166e",
   "metadata": {},
   "outputs": [
    {
     "name": "stdout",
     "output_type": "stream",
     "text": [
      "8)D\n"
     ]
    }
   ],
   "source": [
    "print('8)D')"
   ]
  },
  {
   "cell_type": "code",
   "execution_count": 39,
   "id": "f6a48173",
   "metadata": {},
   "outputs": [
    {
     "name": "stdout",
     "output_type": "stream",
     "text": [
      "9)B\n"
     ]
    }
   ],
   "source": [
    "print(\"9)B\")"
   ]
  },
  {
   "cell_type": "code",
   "execution_count": 43,
   "id": "8c2aa585",
   "metadata": {},
   "outputs": [
    {
     "name": "stdout",
     "output_type": "stream",
     "text": [
      "10)D\n"
     ]
    }
   ],
   "source": [
    "print(\"10)D\")"
   ]
  },
  {
   "cell_type": "code",
   "execution_count": null,
   "id": "d0d0fa24",
   "metadata": {},
   "outputs": [],
   "source": []
  }
 ],
 "metadata": {
  "kernelspec": {
   "display_name": "Python 3 (ipykernel)",
   "language": "python",
   "name": "python3"
  },
  "language_info": {
   "codemirror_mode": {
    "name": "ipython",
    "version": 3
   },
   "file_extension": ".py",
   "mimetype": "text/x-python",
   "name": "python",
   "nbconvert_exporter": "python",
   "pygments_lexer": "ipython3",
   "version": "3.8.10"
  }
 },
 "nbformat": 4,
 "nbformat_minor": 5
}
